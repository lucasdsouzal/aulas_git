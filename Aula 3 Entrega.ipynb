{
 "cells": [
  {
   "cell_type": "code",
   "execution_count": 20,
   "metadata": {},
   "outputs": [],
   "source": [
    "from datetime import datetime\n",
    "from plyer import notification \n",
    "\n",
    "\n",
    "def Alerta(Nivel, Base, Etapa):\n",
    "    if Nivel == 1:\n",
    "        title = \"Alerta Baixo\"\n",
    "    elif Nivel == 2:\n",
    "        title = \"Alerta Médio\"\n",
    "    else:\n",
    "        title = \"Alerta Alto\"\n",
    "    \n",
    "    notification.notify(\n",
    "        title = title, \n",
    "        message = f\"Falha no Carregamento da Base de {Base} na etapa {Etapa}\\ndata atual: {str(datetime.now())}\",\n",
    "        app_name = \"Teste Notificação\", \n",
    "        timeout = 10\n",
    "    )\n",
    "\n",
    "Alerta(Nivel = 3,\n",
    "      Base = \"Clientes\",\n",
    "      Etapa = \"Extração\")\n"
   ]
  }
 ],
 "metadata": {
  "kernelspec": {
   "display_name": "Python 3",
   "language": "python",
   "name": "python3"
  },
  "language_info": {
   "codemirror_mode": {
    "name": "ipython",
    "version": 3
   },
   "file_extension": ".py",
   "mimetype": "text/x-python",
   "name": "python",
   "nbconvert_exporter": "python",
   "pygments_lexer": "ipython3",
   "version": "3.12.2"
  }
 },
 "nbformat": 4,
 "nbformat_minor": 2
}
