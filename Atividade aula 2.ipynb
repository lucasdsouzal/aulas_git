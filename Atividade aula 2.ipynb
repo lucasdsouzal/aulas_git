{
 "cells": [
  {
   "cell_type": "code",
   "execution_count": 1,
   "metadata": {},
   "outputs": [
    {
     "name": "stdout",
     "output_type": "stream",
     "text": [
      "O seu IMC é de 24.221453287197235\n",
      "Peso Normal\n"
     ]
    }
   ],
   "source": [
    "Inicio = \"O seu IMC é de\"\n",
    "\n",
    "Peso = input(f\"qual seria o seu peso?\")\n",
    "Altura = input(f\"qual seria a sua altura?\")\n",
    "\n",
    "IMC = int(Peso)/float(Altura)**2\n",
    "\n",
    "print(Inicio, IMC)\n",
    "\n",
    "if IMC < 18.5: print(\"Baixo Peso\")\n",
    "if IMC > 19 and IMC < 24.99 :print(\"Peso Normal\")\n",
    "if IMC > 25 and IMC < 29.99 :print(\"Sobrepeso\")\n",
    "if IMC > 30 :print(\"Obesidade\")\n",
    "\n"
   ]
  },
  {
   "cell_type": "code",
   "execution_count": 55,
   "metadata": {},
   "outputs": [
    {
     "name": "stdout",
     "output_type": "stream",
     "text": [
      "Sua lista foi formada com os numeros ['1,2,3,4,5,6']\n"
     ]
    }
   ],
   "source": [
    "Lista_Numeros = []\n",
    "Lista_Numeros.append(input(f\"Comece sua lista\"))\n",
    "\n",
    "frase = \"Sua lista foi formada com os numeros\"\n",
    "\n",
    "print(frase,Lista_Numeros)"
   ]
  },
  {
   "cell_type": "code",
   "execution_count": 57,
   "metadata": {},
   "outputs": [
    {
     "name": "stdout",
     "output_type": "stream",
     "text": [
      "Esses foram os nomes escolhidos ['lucas']\n"
     ]
    }
   ],
   "source": [
    "Lista_Nomes = []\n",
    "Lista_Nomes.append(input(f\"Escreva nomes separados por virgulas!\"))\n",
    "\n",
    "Frase = \"Esses foram os nomes escolhidos\"\n",
    "\n",
    "print(Frase, str(Lista_Nomes))"
   ]
  }
 ],
 "metadata": {
  "kernelspec": {
   "display_name": "Python 3",
   "language": "python",
   "name": "python3"
  },
  "language_info": {
   "codemirror_mode": {
    "name": "ipython",
    "version": 3
   },
   "file_extension": ".py",
   "mimetype": "text/x-python",
   "name": "python",
   "nbconvert_exporter": "python",
   "pygments_lexer": "ipython3",
   "version": "3.12.2"
  }
 },
 "nbformat": 4,
 "nbformat_minor": 2
}
